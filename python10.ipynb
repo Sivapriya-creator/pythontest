{
  "nbformat": 4,
  "nbformat_minor": 0,
  "metadata": {
    "colab": {
      "provenance": [],
      "authorship_tag": "ABX9TyPgjIDcOqzhJUnX5jnmTfTE",
      "include_colab_link": true
    },
    "kernelspec": {
      "name": "python3",
      "display_name": "Python 3"
    },
    "language_info": {
      "name": "python"
    }
  },
  "cells": [
    {
      "cell_type": "markdown",
      "metadata": {
        "id": "view-in-github",
        "colab_type": "text"
      },
      "source": [
        "<a href=\"https://colab.research.google.com/github/Sivapriya-creator/pythontest/blob/main/python10.ipynb\" target=\"_parent\"><img src=\"https://colab.research.google.com/assets/colab-badge.svg\" alt=\"Open In Colab\"/></a>"
      ]
    },
    {
      "cell_type": "code",
      "execution_count": 2,
      "metadata": {
        "colab": {
          "base_uri": "https://localhost:8080/"
        },
        "id": "zsTcRwARFxC2",
        "outputId": "2d1c4fd7-8b0b-43ec-9b70-62ad9f349794"
      },
      "outputs": [
        {
          "output_type": "stream",
          "name": "stdout",
          "text": [
            "Enter the number:100\n",
            "The divisors of n are: \n",
            "1 2 4 5 10 20 25 50 "
          ]
        }
      ],
      "source": [
        "# method to print the divisors\n",
        "def printDivisors(n) :\n",
        "    i = 1\n",
        "    while i <= n/2 :\n",
        "        if (n % i==0) :\n",
        "            print (i,end=\" \")\n",
        "        i = i + 1\n",
        "\n",
        "# Driver method\n",
        "p=int(input(\"Enter the number:\"));\n",
        "print (\"The divisors of n are: \")\n",
        "printDivisors(p)"
      ]
    },
    {
      "cell_type": "code",
      "source": [
        "string1 = \"Hello\"\n",
        "string2 = \"Hello\"\n",
        "\n",
        "if string1 == string2:\n",
        "    print(\"Both strings are equal\")\n",
        "else:\n",
        "    print(\"Both strings are not equal\")"
      ],
      "metadata": {
        "colab": {
          "base_uri": "https://localhost:8080/"
        },
        "id": "goyDR6kSIpjm",
        "outputId": "3f339b44-a8cd-467c-9628-c841278be063"
      },
      "execution_count": 3,
      "outputs": [
        {
          "output_type": "stream",
          "name": "stdout",
          "text": [
            "Both strings are equal\n"
          ]
        }
      ]
    },
    {
      "cell_type": "code",
      "source": [
        "\n",
        "\n",
        "# Python3 code to demonstrate\n",
        "# each occurrence frequency using\n",
        "# naive method\n",
        "\n",
        "# initializing string\n",
        "test_str = \"India\"\n",
        "\n",
        "# using naive method to get count\n",
        "# of each element in string\n",
        "all_freq = {}\n",
        "\n",
        "for i in test_str:\n",
        "    if i in all_freq:\n",
        "        all_freq[i] += 1\n",
        "    else:\n",
        "        all_freq[i] = 1\n",
        "\n",
        "# printing result\n",
        "print(\"Count of all characters in  is :\\n \"\n",
        "      + str(all_freq))"
      ],
      "metadata": {
        "colab": {
          "base_uri": "https://localhost:8080/"
        },
        "id": "Gh6o-07AIyvb",
        "outputId": "90f6bb1c-ae93-4cad-921f-ffebaf7f3699"
      },
      "execution_count": 7,
      "outputs": [
        {
          "output_type": "stream",
          "name": "stdout",
          "text": [
            "Count of all characters in  is :\n",
            " {'I': 1, 'n': 1, 'd': 1, 'i': 1, 'a': 1}\n"
          ]
        }
      ]
    },
    {
      "cell_type": "code",
      "source": [
        "# Program: Count number of vowels in a String in Python\n",
        "\n",
        "example = \"Count number of vowels in a String in Python\"\n",
        "\n",
        "# initializing count variable\n",
        "count = 0\n",
        "\n",
        "# declaring a variable for index\n",
        "i = 0\n",
        "\n",
        "# iterate over the given string (example)\n",
        "# len(example) -> gives the length of the string in Python\n",
        "\n",
        "for i in range(len(example)):\n",
        "    if (\n",
        "        (example[i] == \"a\")\n",
        "        or (example[i] == \"e\")\n",
        "        or (example[i] == \"i\")\n",
        "        or (example[i] == \"o\")\n",
        "        or (example[i] == \"u\")\n",
        "    ):\n",
        "        count += 1\n",
        "\n",
        "print(\"Number of vowels in the given string is: \", count)"
      ],
      "metadata": {
        "colab": {
          "base_uri": "https://localhost:8080/"
        },
        "id": "F711HhQwJTjh",
        "outputId": "3180df09-e1e7-471c-e8ad-c4b70be72533"
      },
      "execution_count": 8,
      "outputs": [
        {
          "output_type": "stream",
          "name": "stdout",
          "text": [
            "Number of vowels in the given string is:  12\n"
          ]
        }
      ]
    },
    {
      "cell_type": "code",
      "source": [
        "example = \"I love India\"\n",
        "vowels = {'a', 'e', 'i', 'o', 'u'}\n",
        "count = sum(1 for char in example if char in vowels)\n",
        "print (count)"
      ],
      "metadata": {
        "colab": {
          "base_uri": "https://localhost:8080/"
        },
        "id": "E6pfB-W9ZSJE",
        "outputId": "4f84ee1d-ab99-4207-dfa9-02779279963c"
      },
      "execution_count": 4,
      "outputs": [
        {
          "output_type": "stream",
          "name": "stdout",
          "text": [
            "4\n"
          ]
        }
      ]
    },
    {
      "cell_type": "code",
      "source": [
        "example = \"I love India\"\n",
        "example = example.lower()\n",
        "vowels = {'a', 'e', 'i', 'o', 'u'}\n",
        "vowel_count = {vowel: example.count(vowel) for vowel in vowels}\n",
        "print(vowel_count)\n",
        "print(\"Vowels and their counts in the string:\")\n",
        "for vowel, count in vowel_count.items():\n",
        "    print(f\"{vowel}: {count}\")\n"
      ],
      "metadata": {
        "colab": {
          "base_uri": "https://localhost:8080/"
        },
        "id": "aEBQrVK5auKE",
        "outputId": "84b89774-609f-4711-ee5f-b55b0e77dafb"
      },
      "execution_count": 7,
      "outputs": [
        {
          "output_type": "stream",
          "name": "stdout",
          "text": [
            "{'a': 1, 'e': 1, 'u': 0, 'o': 1, 'i': 3}\n",
            "Vowels and their counts in the string:\n",
            "a: 1\n",
            "e: 1\n",
            "u: 0\n",
            "o: 1\n",
            "i: 3\n"
          ]
        }
      ]
    },
    {
      "cell_type": "code",
      "source": [
        "x = \"Julie\"\n",
        "y = \"John\"\n",
        "print(x + y)"
      ],
      "metadata": {
        "colab": {
          "base_uri": "https://localhost:8080/"
        },
        "id": "WD2aM0TSotWa",
        "outputId": "3e59ba7f-1db5-4f84-f666-533a5407f05b"
      },
      "execution_count": 9,
      "outputs": [
        {
          "output_type": "stream",
          "name": "stdout",
          "text": [
            "JulieJohn\n"
          ]
        }
      ]
    },
    {
      "cell_type": "code",
      "source": [
        "print (\"foo\" * 3)\n",
        "print (2 ** 5)"
      ],
      "metadata": {
        "colab": {
          "base_uri": "https://localhost:8080/"
        },
        "id": "inSvcdxDKexT",
        "outputId": "ebe06186-5da9-4ee8-ad9d-cfe7973648f5"
      },
      "execution_count": 1,
      "outputs": [
        {
          "output_type": "stream",
          "name": "stdout",
          "text": [
            "foofoofoo\n",
            "32\n"
          ]
        }
      ]
    },
    {
      "cell_type": "code",
      "source": [
        "\"Hello\"[0]\n"
      ],
      "metadata": {
        "colab": {
          "base_uri": "https://localhost:8080/",
          "height": 35
        },
        "id": "cFHP9dUvMgpA",
        "outputId": "344c8a7b-06b7-42bf-8740-5eb147691c2e"
      },
      "execution_count": 12,
      "outputs": [
        {
          "output_type": "execute_result",
          "data": {
            "text/plain": [
              "'H'"
            ],
            "application/vnd.google.colaboratory.intrinsic+json": {
              "type": "string"
            }
          },
          "metadata": {},
          "execution_count": 12
        }
      ]
    },
    {
      "cell_type": "code",
      "source": [
        "my_set = {1, 2, 3}\n",
        "other_set = {4, 5, 6}\n",
        "my_set=my_set|other_set\n",
        "print(my_set)  # Output: {1, 2, 3, 4, 5, 6}"
      ],
      "metadata": {
        "colab": {
          "base_uri": "https://localhost:8080/"
        },
        "id": "vnL6A5hmr6Kg",
        "outputId": "646da1bd-4942-4562-90e0-7b6afbe6a1d9"
      },
      "execution_count": 16,
      "outputs": [
        {
          "output_type": "stream",
          "name": "stdout",
          "text": [
            "{1, 2, 3, 4, 5, 6}\n"
          ]
        }
      ]
    },
    {
      "cell_type": "code",
      "source": [
        "def calculate_score(problem_difficulties):\n",
        "    score = 0\n",
        "    for difficulty in problem_difficulties:\n",
        "        if difficulty == 'E':\n",
        "            score += 1\n",
        "        elif difficulty == 'M':\n",
        "            score += 3\n",
        "        elif difficulty == 'H':\n",
        "            score += 5\n",
        "    return score\n",
        "\n",
        "def determine_winner(ravi, sushma):\n",
        "    ravi_score = calculate_score(ravi)\n",
        "    sushma_score = calculate_score(sushma)\n",
        "\n",
        "    if ravi_score > sushma_score:\n",
        "        return \"Ravi\"\n",
        "    elif ravi_score < sushma_score:\n",
        "        return \"Sushma\"\n",
        "    else:\n",
        "        return \"Tie\"\n",
        "\n",
        "# Example usage:\n",
        "Ravi = input(\"Enter the Ravi inputs:\")\n",
        "Sushma = input(\"Enter the Sushma inputs:\")\n",
        "winner = determine_winner(Ravi, Sushma)\n",
        "print(winner)  # Output: \"Ravi\"\n"
      ],
      "metadata": {
        "colab": {
          "base_uri": "https://localhost:8080/"
        },
        "id": "Yv2U05ntOKAA",
        "outputId": "2be03c07-78d8-488d-a294-1d16602ab1f3"
      },
      "execution_count": 28,
      "outputs": [
        {
          "output_type": "stream",
          "name": "stdout",
          "text": [
            "Enter the Ravi inputs:EHM\n",
            "Enter the Sushma inputs:EH\n",
            "Ravi\n"
          ]
        }
      ]
    },
    {
      "cell_type": "code",
      "source": [
        "def calculate_score(problem_difficulties):\n",
        "    difficulty_scores = {'E': 1, 'M': 3, 'H': 5}\n",
        "    score = 0  # Initialize score\n",
        "    for difficulty in problem_difficulties:\n",
        "        score = score + difficulty_scores.get(difficulty)  # Accumulate score\n",
        "    return score\n",
        "\n",
        "def determine_winner(ravi, sushma):\n",
        "    ravi_score = calculate_score(ravi)\n",
        "    sushma_score = calculate_score(sushma)\n",
        "    print(ravi_score)\n",
        "    print(sushma_score)\n",
        "    if ravi_score > sushma_score:\n",
        "        return \"Ravi\"\n",
        "    elif ravi_score < sushma_score:\n",
        "        return \"Sushma\"\n",
        "    else:\n",
        "        return \"Tie\"\n",
        "\n",
        "# Example usage:\n",
        "Ravi = input(\"Enter the Ravi inputs (E, M, H): \")\n",
        "Sushma = input(\"Enter the Sushma inputs (E, M, H): \")\n",
        "winner = determine_winner(Ravi, Sushma)\n",
        "print(\"Winner:\", winner)\n"
      ],
      "metadata": {
        "colab": {
          "base_uri": "https://localhost:8080/"
        },
        "id": "MasCwBFbvmf0",
        "outputId": "7fee0b7c-ba49-4672-fbad-5ca270b7b249"
      },
      "execution_count": null,
      "outputs": [
        {
          "name": "stdout",
          "output_type": "stream",
          "text": [
            "Enter the Ravi inputs (E, M, H): EHX\n"
          ]
        }
      ]
    },
    {
      "cell_type": "code",
      "source": [
        "!pip install ipdb"
      ],
      "metadata": {
        "colab": {
          "base_uri": "https://localhost:8080/"
        },
        "id": "eWuHNuOgZeLD",
        "outputId": "032d6257-5a9a-43aa-b2ff-03d79fd349bb"
      },
      "execution_count": 17,
      "outputs": [
        {
          "output_type": "stream",
          "name": "stdout",
          "text": [
            "Collecting ipdb\n",
            "  Downloading ipdb-0.13.13-py3-none-any.whl (12 kB)\n",
            "Requirement already satisfied: ipython>=7.31.1 in /usr/local/lib/python3.10/dist-packages (from ipdb) (7.34.0)\n",
            "Requirement already satisfied: tomli in /usr/local/lib/python3.10/dist-packages (from ipdb) (2.0.1)\n",
            "Requirement already satisfied: decorator in /usr/local/lib/python3.10/dist-packages (from ipdb) (4.4.2)\n",
            "Requirement already satisfied: setuptools>=18.5 in /usr/local/lib/python3.10/dist-packages (from ipython>=7.31.1->ipdb) (67.7.2)\n",
            "Collecting jedi>=0.16 (from ipython>=7.31.1->ipdb)\n",
            "  Downloading jedi-0.19.1-py2.py3-none-any.whl (1.6 MB)\n",
            "\u001b[2K     \u001b[90m━━━━━━━━━━━━━━━━━━━━━━━━━━━━━━━━━━━━━━━━\u001b[0m \u001b[32m1.6/1.6 MB\u001b[0m \u001b[31m16.1 MB/s\u001b[0m eta \u001b[36m0:00:00\u001b[0m\n",
            "\u001b[?25hRequirement already satisfied: pickleshare in /usr/local/lib/python3.10/dist-packages (from ipython>=7.31.1->ipdb) (0.7.5)\n",
            "Requirement already satisfied: traitlets>=4.2 in /usr/local/lib/python3.10/dist-packages (from ipython>=7.31.1->ipdb) (5.7.1)\n",
            "Requirement already satisfied: prompt-toolkit!=3.0.0,!=3.0.1,<3.1.0,>=2.0.0 in /usr/local/lib/python3.10/dist-packages (from ipython>=7.31.1->ipdb) (3.0.45)\n",
            "Requirement already satisfied: pygments in /usr/local/lib/python3.10/dist-packages (from ipython>=7.31.1->ipdb) (2.16.1)\n",
            "Requirement already satisfied: backcall in /usr/local/lib/python3.10/dist-packages (from ipython>=7.31.1->ipdb) (0.2.0)\n",
            "Requirement already satisfied: matplotlib-inline in /usr/local/lib/python3.10/dist-packages (from ipython>=7.31.1->ipdb) (0.1.7)\n",
            "Requirement already satisfied: pexpect>4.3 in /usr/local/lib/python3.10/dist-packages (from ipython>=7.31.1->ipdb) (4.9.0)\n",
            "Requirement already satisfied: parso<0.9.0,>=0.8.3 in /usr/local/lib/python3.10/dist-packages (from jedi>=0.16->ipython>=7.31.1->ipdb) (0.8.4)\n",
            "Requirement already satisfied: ptyprocess>=0.5 in /usr/local/lib/python3.10/dist-packages (from pexpect>4.3->ipython>=7.31.1->ipdb) (0.7.0)\n",
            "Requirement already satisfied: wcwidth in /usr/local/lib/python3.10/dist-packages (from prompt-toolkit!=3.0.0,!=3.0.1,<3.1.0,>=2.0.0->ipython>=7.31.1->ipdb) (0.2.13)\n",
            "Installing collected packages: jedi, ipdb\n",
            "Successfully installed ipdb-0.13.13 jedi-0.19.1\n"
          ]
        }
      ]
    },
    {
      "cell_type": "code",
      "source": [
        "print (2 * 3)"
      ],
      "metadata": {
        "colab": {
          "base_uri": "https://localhost:8080/"
        },
        "id": "_lBWR0OrKtMa",
        "outputId": "1256d3fb-8985-4500-99c3-4905240491e1"
      },
      "execution_count": 11,
      "outputs": [
        {
          "output_type": "stream",
          "name": "stdout",
          "text": [
            "6\n"
          ]
        }
      ]
    }
  ]
}